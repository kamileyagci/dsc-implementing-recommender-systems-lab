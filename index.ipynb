{
 "cells": [
  {
   "cell_type": "markdown",
   "metadata": {},
   "source": [
    "# Implementing Recommender Systems - Lab\n",
    "\n",
    "## Introduction\n",
    "\n",
    "In this lab, you'll practice creating a recommender system model using `surprise`. You'll also get the chance to create a more complete recommender system pipeline to obtain the top recommendations for a specific user.\n"
   ]
  },
  {
   "cell_type": "markdown",
   "metadata": {},
   "source": [
    "## Objectives\n",
    "\n",
    "In this lab you will: \n",
    "\n",
    "- Use surprise's built-in reader class to process data to work with recommender algorithms \n",
    "- Obtain a prediction for a specific user for a particular item \n",
    "- Introduce a new user with rating to a rating matrix and make recommendations for them \n",
    "- Create a function that will return the top n recommendations for a user \n"
   ]
  },
  {
   "cell_type": "markdown",
   "metadata": {},
   "source": [
    "For this lab, we will be using the famous 1M movie dataset. It contains a collection of user ratings for many different movies. In the last lesson, you were exposed to working with `surprise` datasets. In this lab, you will also go through the process of reading in a dataset into the `surprise` dataset format. To begin with, load the dataset into a Pandas DataFrame. Determine which columns are necessary for your recommendation system and drop any extraneous ones."
   ]
  },
  {
   "cell_type": "code",
   "execution_count": 7,
   "metadata": {},
   "outputs": [
    {
     "name": "stdout",
     "output_type": "stream",
     "text": [
      "<class 'pandas.core.frame.DataFrame'>\n",
      "RangeIndex: 100836 entries, 0 to 100835\n",
      "Data columns (total 4 columns):\n",
      " #   Column     Non-Null Count   Dtype  \n",
      "---  ------     --------------   -----  \n",
      " 0   userId     100836 non-null  int64  \n",
      " 1   movieId    100836 non-null  int64  \n",
      " 2   rating     100836 non-null  float64\n",
      " 3   timestamp  100836 non-null  int64  \n",
      "dtypes: float64(1), int64(3)\n",
      "memory usage: 3.1 MB\n"
     ]
    }
   ],
   "source": [
    "import pandas as pd\n",
    "df = pd.read_csv('./ml-latest-small/ratings.csv')\n",
    "df.info()"
   ]
  },
  {
   "cell_type": "code",
   "execution_count": 9,
   "metadata": {},
   "outputs": [],
   "source": [
    "# Drop unnecessary columns\n",
    "new_df = df.drop('timestamp', axis=1)"
   ]
  },
  {
   "cell_type": "code",
   "execution_count": 10,
   "metadata": {},
   "outputs": [
    {
     "data": {
      "text/html": [
       "<div>\n",
       "<style scoped>\n",
       "    .dataframe tbody tr th:only-of-type {\n",
       "        vertical-align: middle;\n",
       "    }\n",
       "\n",
       "    .dataframe tbody tr th {\n",
       "        vertical-align: top;\n",
       "    }\n",
       "\n",
       "    .dataframe thead th {\n",
       "        text-align: right;\n",
       "    }\n",
       "</style>\n",
       "<table border=\"1\" class=\"dataframe\">\n",
       "  <thead>\n",
       "    <tr style=\"text-align: right;\">\n",
       "      <th></th>\n",
       "      <th>userId</th>\n",
       "      <th>movieId</th>\n",
       "      <th>rating</th>\n",
       "    </tr>\n",
       "  </thead>\n",
       "  <tbody>\n",
       "    <tr>\n",
       "      <th>0</th>\n",
       "      <td>1</td>\n",
       "      <td>1</td>\n",
       "      <td>4.0</td>\n",
       "    </tr>\n",
       "    <tr>\n",
       "      <th>1</th>\n",
       "      <td>1</td>\n",
       "      <td>3</td>\n",
       "      <td>4.0</td>\n",
       "    </tr>\n",
       "    <tr>\n",
       "      <th>2</th>\n",
       "      <td>1</td>\n",
       "      <td>6</td>\n",
       "      <td>4.0</td>\n",
       "    </tr>\n",
       "    <tr>\n",
       "      <th>3</th>\n",
       "      <td>1</td>\n",
       "      <td>47</td>\n",
       "      <td>5.0</td>\n",
       "    </tr>\n",
       "    <tr>\n",
       "      <th>4</th>\n",
       "      <td>1</td>\n",
       "      <td>50</td>\n",
       "      <td>5.0</td>\n",
       "    </tr>\n",
       "  </tbody>\n",
       "</table>\n",
       "</div>"
      ],
      "text/plain": [
       "   userId  movieId  rating\n",
       "0       1        1     4.0\n",
       "1       1        3     4.0\n",
       "2       1        6     4.0\n",
       "3       1       47     5.0\n",
       "4       1       50     5.0"
      ]
     },
     "execution_count": 10,
     "metadata": {},
     "output_type": "execute_result"
    }
   ],
   "source": [
    "new_df.head()"
   ]
  },
  {
   "cell_type": "markdown",
   "metadata": {},
   "source": [
    "It's now time to transform the dataset into something compatible with `surprise`. In order to do this, you're going to need `Reader` and `Dataset` classes. There's a method in `Dataset` specifically for loading dataframes."
   ]
  },
  {
   "cell_type": "code",
   "execution_count": 6,
   "metadata": {},
   "outputs": [],
   "source": [
    "#!pip install scikit-surprise"
   ]
  },
  {
   "cell_type": "code",
   "execution_count": 119,
   "metadata": {},
   "outputs": [],
   "source": [
    "from surprise import Reader, Dataset\n",
    "# read in values as Surprise dataset \n",
    "reader = Reader()\n",
    "data = Dataset.load_from_df(new_df, reader)"
   ]
  },
  {
   "cell_type": "markdown",
   "metadata": {},
   "source": [
    "Let's look at how many users and items we have in our dataset. If using neighborhood-based methods, this will help us determine whether or not we should perform user-user or item-item similarity"
   ]
  },
  {
   "cell_type": "code",
   "execution_count": 13,
   "metadata": {},
   "outputs": [
    {
     "name": "stdout",
     "output_type": "stream",
     "text": [
      "Number of users:  610 \n",
      "\n",
      "Number of items:  9724\n"
     ]
    }
   ],
   "source": [
    "dataset = data.build_full_trainset()\n",
    "print('Number of users: ', dataset.n_users, '\\n')\n",
    "print('Number of items: ', dataset.n_items)"
   ]
  },
  {
   "cell_type": "markdown",
   "metadata": {},
   "source": [
    "## Determine the best model \n",
    "\n",
    "Now, compare the different models and see which ones perform best. For consistency sake, use RMSE to evaluate models. Remember to cross-validate! Can you get a model with a higher average RMSE on test data than 0.869?"
   ]
  },
  {
   "cell_type": "code",
   "execution_count": 14,
   "metadata": {},
   "outputs": [],
   "source": [
    "# importing relevant libraries\n",
    "from surprise.model_selection import cross_validate\n",
    "from surprise.prediction_algorithms import SVD\n",
    "from surprise.prediction_algorithms import KNNWithMeans, KNNBasic, KNNBaseline\n",
    "from surprise.model_selection import GridSearchCV\n",
    "import numpy as np"
   ]
  },
  {
   "cell_type": "code",
   "execution_count": 15,
   "metadata": {},
   "outputs": [
    {
     "name": "stderr",
     "output_type": "stream",
     "text": [
      "[Parallel(n_jobs=-1)]: Using backend LokyBackend with 4 concurrent workers.\n",
      "[Parallel(n_jobs=-1)]: Done  10 tasks      | elapsed:   15.0s\n",
      "[Parallel(n_jobs=-1)]: Done  45 out of  45 | elapsed:  1.5min finished\n"
     ]
    }
   ],
   "source": [
    "## Perform a gridsearch with SVD\n",
    "# ⏰ This cell may take several minutes to run\n",
    "\n",
    "param_grid = {'n_factors':[20, 50, 100], 'reg_all': [0.02, 0.05, 0.1]}\n",
    "gs_model = GridSearchCV(SVD, param_grid=param_grid, n_jobs = -1, joblib_verbose=5)\n",
    "gs_model.fit(data)"
   ]
  },
  {
   "cell_type": "code",
   "execution_count": 20,
   "metadata": {},
   "outputs": [
    {
     "name": "stdout",
     "output_type": "stream",
     "text": [
      "Best score: {'rmse': 0.8687182695413209, 'mae': 0.6677087971135196}\n",
      "Best parameters: {'rmse': {'n_factors': 20, 'reg_all': 0.02}, 'mae': {'n_factors': 20, 'reg_all': 0.02}}\n"
     ]
    }
   ],
   "source": [
    "# print out optimal parameters for SVD after GridSearch\n",
    "print('Best score:', gs_model.best_score)\n",
    "print('Best parameters:', gs_model.best_params)"
   ]
  },
  {
   "cell_type": "code",
   "execution_count": 22,
   "metadata": {},
   "outputs": [],
   "source": [
    "# cross validating with KNNBasic\n",
    "knn_basic = KNNBasic(sim_options={'name':'pearson', 'user_based':True})\n",
    "cv_knn_basic = cross_validate(knn_basic, data, n_jobs=-1)"
   ]
  },
  {
   "cell_type": "code",
   "execution_count": 32,
   "metadata": {},
   "outputs": [
    {
     "name": "stdout",
     "output_type": "stream",
     "text": [
      "RMSE scores: [0.98002504 0.9652961  0.97961854 0.96673369 0.96705843]\n",
      "Avg RMSE score: 0.9717463620206681\n"
     ]
    }
   ],
   "source": [
    "# print out the average RMSE score for the test set\n",
    "print('RMSE scores:', cv_knn_basic['test_rmse'])\n",
    "print('Avg RMSE score:', np.mean(cv_knn_basic['test_rmse']))"
   ]
  },
  {
   "cell_type": "code",
   "execution_count": 33,
   "metadata": {},
   "outputs": [],
   "source": [
    "# cross validating with KNNBaseline\n",
    "knn_baseline = KNNBaseline(sim_options={'name':'pearson', 'user_based':True})\n",
    "cv_knn_baseline = cross_validate(knn_basic, data, n_jobs=-1)"
   ]
  },
  {
   "cell_type": "code",
   "execution_count": 35,
   "metadata": {},
   "outputs": [
    {
     "name": "stdout",
     "output_type": "stream",
     "text": [
      "Avg RMSE score: 0.972779300722134\n"
     ]
    }
   ],
   "source": [
    "# print out the average score for the test set\n",
    "print('Avg RMSE score:', np.mean(cv_knn_baseline['test_rmse']))"
   ]
  },
  {
   "cell_type": "markdown",
   "metadata": {},
   "source": [
    "Based off these outputs, it seems like the best performing model is the SVD model with `n_factors = 50` and a regularization rate of 0.05. Use that model or if you found one that performs better, feel free to use that to make some predictions."
   ]
  },
  {
   "cell_type": "markdown",
   "metadata": {},
   "source": [
    "## Making Recommendations\n",
    "\n",
    "It's important that the output for the recommendation is interpretable to people. Rather than returning the `movie_id` values, it would be far more valuable to return the actual title of the movie. As a first step, let's read in the movies to a dataframe and take a peek at what information we have about them."
   ]
  },
  {
   "cell_type": "code",
   "execution_count": 36,
   "metadata": {},
   "outputs": [],
   "source": [
    "df_movies = pd.read_csv('./ml-latest-small/movies.csv')"
   ]
  },
  {
   "cell_type": "code",
   "execution_count": 37,
   "metadata": {
    "scrolled": true
   },
   "outputs": [
    {
     "data": {
      "text/html": [
       "<div>\n",
       "<style scoped>\n",
       "    .dataframe tbody tr th:only-of-type {\n",
       "        vertical-align: middle;\n",
       "    }\n",
       "\n",
       "    .dataframe tbody tr th {\n",
       "        vertical-align: top;\n",
       "    }\n",
       "\n",
       "    .dataframe thead th {\n",
       "        text-align: right;\n",
       "    }\n",
       "</style>\n",
       "<table border=\"1\" class=\"dataframe\">\n",
       "  <thead>\n",
       "    <tr style=\"text-align: right;\">\n",
       "      <th></th>\n",
       "      <th>movieId</th>\n",
       "      <th>title</th>\n",
       "      <th>genres</th>\n",
       "    </tr>\n",
       "  </thead>\n",
       "  <tbody>\n",
       "    <tr>\n",
       "      <th>0</th>\n",
       "      <td>1</td>\n",
       "      <td>Toy Story (1995)</td>\n",
       "      <td>Adventure|Animation|Children|Comedy|Fantasy</td>\n",
       "    </tr>\n",
       "    <tr>\n",
       "      <th>1</th>\n",
       "      <td>2</td>\n",
       "      <td>Jumanji (1995)</td>\n",
       "      <td>Adventure|Children|Fantasy</td>\n",
       "    </tr>\n",
       "    <tr>\n",
       "      <th>2</th>\n",
       "      <td>3</td>\n",
       "      <td>Grumpier Old Men (1995)</td>\n",
       "      <td>Comedy|Romance</td>\n",
       "    </tr>\n",
       "    <tr>\n",
       "      <th>3</th>\n",
       "      <td>4</td>\n",
       "      <td>Waiting to Exhale (1995)</td>\n",
       "      <td>Comedy|Drama|Romance</td>\n",
       "    </tr>\n",
       "    <tr>\n",
       "      <th>4</th>\n",
       "      <td>5</td>\n",
       "      <td>Father of the Bride Part II (1995)</td>\n",
       "      <td>Comedy</td>\n",
       "    </tr>\n",
       "  </tbody>\n",
       "</table>\n",
       "</div>"
      ],
      "text/plain": [
       "   movieId                               title  \\\n",
       "0        1                    Toy Story (1995)   \n",
       "1        2                      Jumanji (1995)   \n",
       "2        3             Grumpier Old Men (1995)   \n",
       "3        4            Waiting to Exhale (1995)   \n",
       "4        5  Father of the Bride Part II (1995)   \n",
       "\n",
       "                                        genres  \n",
       "0  Adventure|Animation|Children|Comedy|Fantasy  \n",
       "1                   Adventure|Children|Fantasy  \n",
       "2                               Comedy|Romance  \n",
       "3                         Comedy|Drama|Romance  \n",
       "4                                       Comedy  "
      ]
     },
     "execution_count": 37,
     "metadata": {},
     "output_type": "execute_result"
    }
   ],
   "source": [
    "df_movies.head()"
   ]
  },
  {
   "cell_type": "markdown",
   "metadata": {},
   "source": [
    "## Making simple predictions\n",
    "Just as a reminder, let's look at how you make a prediction for an individual user and item. First, we'll fit the SVD model we had from before."
   ]
  },
  {
   "cell_type": "code",
   "execution_count": 58,
   "metadata": {},
   "outputs": [
    {
     "data": {
      "text/plain": [
       "<surprise.prediction_algorithms.matrix_factorization.SVD at 0x7ff6211d70d0>"
      ]
     },
     "execution_count": 58,
     "metadata": {},
     "output_type": "execute_result"
    }
   ],
   "source": [
    "#svd = SVD(n_factors= 50, reg_all=0.05)  \n",
    "svd = SVD(n_factors= 20, reg_all=0.02)  #Best paremeters according to the grid search\n",
    "svd.fit(dataset)"
   ]
  },
  {
   "cell_type": "code",
   "execution_count": 57,
   "metadata": {},
   "outputs": [
    {
     "name": "stdout",
     "output_type": "stream",
     "text": [
      "Avg RMSE score: 0.869904358207387\n"
     ]
    }
   ],
   "source": [
    "cv_svd = cross_validate(svd, data, n_jobs=-1)\n",
    "print('Avg RMSE score:', np.mean(cv_svd['test_rmse']))"
   ]
  },
  {
   "cell_type": "code",
   "execution_count": 59,
   "metadata": {},
   "outputs": [
    {
     "data": {
      "text/plain": [
       "Prediction(uid=2, iid=4, r_ui=None, est=3.0770973342817625, details={'was_impossible': False})"
      ]
     },
     "execution_count": 59,
     "metadata": {},
     "output_type": "execute_result"
    }
   ],
   "source": [
    "svd.predict(2, 4)"
   ]
  },
  {
   "cell_type": "markdown",
   "metadata": {},
   "source": [
    "This prediction value is a tuple and each of the values within it can be accessed by way of indexing. Now let's put our knowledge of recommendation systems to do something interesting: making predictions for a new user!"
   ]
  },
  {
   "cell_type": "markdown",
   "metadata": {},
   "source": [
    "## Obtaining User Ratings \n",
    "\n",
    "It's great that we have working models and everything, but wouldn't it be nice to get to recommendations specifically tailored to your preferences? That's what we'll be doing now. The first step is to create a function that allows us to pick randomly selected movies. The function should present users with a movie and ask them to rate it. If they have not seen the movie, they should be able to skip rating it. \n",
    "\n",
    "The function `movie_rater()` should take as parameters: \n",
    "\n",
    "* `movie_df`: DataFrame - a dataframe containing the movie ids, name of movie, and genres\n",
    "* `num`: int - number of ratings\n",
    "* `genre`: string - a specific genre from which to draw movies\n",
    "\n",
    "The function returns:\n",
    "* rating_list : list - a collection of dictionaries in the format of {'userId': int , 'movieId': int , 'rating': float}\n",
    "\n",
    "#### This function is optional, but fun :) "
   ]
  },
  {
   "cell_type": "code",
   "execution_count": 127,
   "metadata": {},
   "outputs": [],
   "source": [
    "def movie_rater(movie_df, num, genre=None):\n",
    "    \n",
    "    userID = 999\n",
    "    \n",
    "    movies_list = [] \n",
    "    \n",
    "    for i in range(0,num):\n",
    "        if genre:\n",
    "            movie = movie_df[movie_df['genres'].str.contains(genre)].sample(1)\n",
    "        else:\n",
    "            movie = movie_df.sample(1)\n",
    "        \n",
    "\n",
    "        print(movie.title)   \n",
    "        rating = input(\"How do you rate this movie? Press 1-5 to rate. If you have not seen this movie, press 'n'.\")\n",
    "        print('\\n')\n",
    "        \n",
    "        if rating == 'n':\n",
    "            continue\n",
    "        else:\n",
    "            movies_list.append({'userId': userID , 'movieId': movie.movieId.values[0] , 'rating': rating})\n",
    "    \n",
    "    return movies_list"
   ]
  },
  {
   "cell_type": "code",
   "execution_count": 133,
   "metadata": {
    "scrolled": true
   },
   "outputs": [
    {
     "name": "stdout",
     "output_type": "stream",
     "text": [
      "9194    The Love Bug (1997)\n",
      "Name: title, dtype: object\n",
      "How do you rate this movie? Press 1-5 to rate. If you have not seen this movie, press 'n'.n\n",
      "\n",
      "\n",
      "169    Three Wishes (1995)\n",
      "Name: title, dtype: object\n",
      "How do you rate this movie? Press 1-5 to rate. If you have not seen this movie, press 'n'.n\n",
      "\n",
      "\n",
      "6629    Golden Compass, The (2007)\n",
      "Name: title, dtype: object\n",
      "How do you rate this movie? Press 1-5 to rate. If you have not seen this movie, press 'n'.4\n",
      "\n",
      "\n",
      "4137    Lord of the Rings: The Two Towers, The (2002)\n",
      "Name: title, dtype: object\n",
      "How do you rate this movie? Press 1-5 to rate. If you have not seen this movie, press 'n'.5\n",
      "\n",
      "\n",
      "723    Ghost and Mrs. Muir, The (1947)\n",
      "Name: title, dtype: object\n",
      "How do you rate this movie? Press 1-5 to rate. If you have not seen this movie, press 'n'.n\n",
      "\n",
      "\n",
      "7133    Cloudy with a Chance of Meatballs (2009)\n",
      "Name: title, dtype: object\n",
      "How do you rate this movie? Press 1-5 to rate. If you have not seen this movie, press 'n'.4\n",
      "\n",
      "\n",
      "9693    Fullmetal Alchemist 2018 (2017)\n",
      "Name: title, dtype: object\n",
      "How do you rate this movie? Press 1-5 to rate. If you have not seen this movie, press 'n'.n\n",
      "\n",
      "\n",
      "9372    Miss Peregrine's Home for Peculiar Children (2...\n",
      "Name: title, dtype: object\n",
      "How do you rate this movie? Press 1-5 to rate. If you have not seen this movie, press 'n'.n\n",
      "\n",
      "\n",
      "5978    Brothers Grimm, The (2005)\n",
      "Name: title, dtype: object\n",
      "How do you rate this movie? Press 1-5 to rate. If you have not seen this movie, press 'n'.4\n",
      "\n",
      "\n",
      "4647    Looney Tunes: Back in Action (2003)\n",
      "Name: title, dtype: object\n",
      "How do you rate this movie? Press 1-5 to rate. If you have not seen this movie, press 'n'.n\n",
      "\n",
      "\n"
     ]
    }
   ],
   "source": [
    "# try out the new function here!\n",
    "my_ratings = movie_rater(df_movies, 10, 'Fantasy')"
   ]
  },
  {
   "cell_type": "code",
   "execution_count": 134,
   "metadata": {},
   "outputs": [
    {
     "data": {
      "text/plain": [
       "[{'userId': 999, 'movieId': 56171, 'rating': '4'},\n",
       " {'userId': 999, 'movieId': 5952, 'rating': '5'},\n",
       " {'userId': 999, 'movieId': 71264, 'rating': '4'},\n",
       " {'userId': 999, 'movieId': 36401, 'rating': '4'}]"
      ]
     },
     "execution_count": 134,
     "metadata": {},
     "output_type": "execute_result"
    }
   ],
   "source": [
    "my_ratings"
   ]
  },
  {
   "cell_type": "code",
   "execution_count": 182,
   "metadata": {},
   "outputs": [
    {
     "name": "stdout",
     "output_type": "stream",
     "text": [
      "9595    The Hitman's Bodyguard (2017)\n",
      "Name: title, dtype: object\n",
      "How do you rate this movie? Press 1-5 to rate. If you have not seen this movie, press 'n'.n\n",
      "\n",
      "\n",
      "8259    Family, The (2013)\n",
      "Name: title, dtype: object\n",
      "How do you rate this movie? Press 1-5 to rate. If you have not seen this movie, press 'n'.n\n",
      "\n",
      "\n",
      "2544    Night to Remember, A (1958)\n",
      "Name: title, dtype: object\n",
      "How do you rate this movie? Press 1-5 to rate. If you have not seen this movie, press 'n'.n\n",
      "\n",
      "\n",
      "3355    They Live (1988)\n",
      "Name: title, dtype: object\n",
      "How do you rate this movie? Press 1-5 to rate. If you have not seen this movie, press 'n'.n\n",
      "\n",
      "\n",
      "3854    Bourne Identity, The (2002)\n",
      "Name: title, dtype: object\n",
      "How do you rate this movie? Press 1-5 to rate. If you have not seen this movie, press 'n'.5\n",
      "\n",
      "\n",
      "793    Die Hard (1988)\n",
      "Name: title, dtype: object\n",
      "How do you rate this movie? Press 1-5 to rate. If you have not seen this movie, press 'n'.4\n",
      "\n",
      "\n",
      "9547    Final Flight of the Osiris (2003)\n",
      "Name: title, dtype: object\n",
      "How do you rate this movie? Press 1-5 to rate. If you have not seen this movie, press 'n'.n\n",
      "\n",
      "\n",
      "8344    Dragon Ball: The Path to Power (Doragon bôru: ...\n",
      "Name: title, dtype: object\n",
      "How do you rate this movie? Press 1-5 to rate. If you have not seen this movie, press 'n'.n\n",
      "\n",
      "\n",
      "9034    Invincible Shaolin (1978)\n",
      "Name: title, dtype: object\n",
      "How do you rate this movie? Press 1-5 to rate. If you have not seen this movie, press 'n'.n\n",
      "\n",
      "\n",
      "7242    Undisputed II: Last Man Standing (2006)\n",
      "Name: title, dtype: object\n",
      "How do you rate this movie? Press 1-5 to rate. If you have not seen this movie, press 'n'.n\n",
      "\n",
      "\n",
      "8388    Barefoot (2014)\n",
      "Name: title, dtype: object\n",
      "How do you rate this movie? Press 1-5 to rate. If you have not seen this movie, press 'n'.n\n",
      "\n",
      "\n",
      "8432    Begin Again (2013)\n",
      "Name: title, dtype: object\n",
      "How do you rate this movie? Press 1-5 to rate. If you have not seen this movie, press 'n'.n\n",
      "\n",
      "\n",
      "714    To Catch a Thief (1955)\n",
      "Name: title, dtype: object\n",
      "How do you rate this movie? Press 1-5 to rate. If you have not seen this movie, press 'n'.4\n",
      "\n",
      "\n",
      "5810    Royal Flash (1975)\n",
      "Name: title, dtype: object\n",
      "How do you rate this movie? Press 1-5 to rate. If you have not seen this movie, press 'n'.n\n",
      "\n",
      "\n",
      "7333    Robin Hood (2010)\n",
      "Name: title, dtype: object\n",
      "How do you rate this movie? Press 1-5 to rate. If you have not seen this movie, press 'n'.5\n",
      "\n",
      "\n",
      "7438    Never Let Me Go (2010)\n",
      "Name: title, dtype: object\n",
      "How do you rate this movie? Press 1-5 to rate. If you have not seen this movie, press 'n'.n\n",
      "\n",
      "\n",
      "9047    Ordinary Miracle (1978)\n",
      "Name: title, dtype: object\n",
      "How do you rate this movie? Press 1-5 to rate. If you have not seen this movie, press 'n'.n\n",
      "\n",
      "\n",
      "566    Mrs. Winterbourne (1996)\n",
      "Name: title, dtype: object\n",
      "How do you rate this movie? Press 1-5 to rate. If you have not seen this movie, press 'n'.n\n",
      "\n",
      "\n",
      "7248    When in Rome (2010)\n",
      "Name: title, dtype: object\n",
      "How do you rate this movie? Press 1-5 to rate. If you have not seen this movie, press 'n'.4\n",
      "\n",
      "\n",
      "8446    The Fault in Our Stars (2014)\n",
      "Name: title, dtype: object\n",
      "How do you rate this movie? Press 1-5 to rate. If you have not seen this movie, press 'n'.n\n",
      "\n",
      "\n",
      "2630    Bell, Book and Candle (1958)\n",
      "Name: title, dtype: object\n",
      "How do you rate this movie? Press 1-5 to rate. If you have not seen this movie, press 'n'.n\n",
      "\n",
      "\n",
      "4101    Talk to Her (Hable con Ella) (2002)\n",
      "Name: title, dtype: object\n",
      "How do you rate this movie? Press 1-5 to rate. If you have not seen this movie, press 'n'.n\n",
      "\n",
      "\n",
      "3048    Barfly (1987)\n",
      "Name: title, dtype: object\n",
      "How do you rate this movie? Press 1-5 to rate. If you have not seen this movie, press 'n'.n\n",
      "\n",
      "\n",
      "8471    And So It Goes (2014)\n",
      "Name: title, dtype: object\n",
      "How do you rate this movie? Press 1-5 to rate. If you have not seen this movie, press 'n'.n\n",
      "\n",
      "\n",
      "7210    Snow White (1916)\n",
      "Name: title, dtype: object\n",
      "How do you rate this movie? Press 1-5 to rate. If you have not seen this movie, press 'n'.3\n",
      "\n",
      "\n",
      "4252    Late Marriage (Hatuna Meuheret) (2001)\n",
      "Name: title, dtype: object\n",
      "How do you rate this movie? Press 1-5 to rate. If you have not seen this movie, press 'n'.n\n",
      "\n",
      "\n",
      "8668    Carry on Cabby (1963)\n",
      "Name: title, dtype: object\n",
      "How do you rate this movie? Press 1-5 to rate. If you have not seen this movie, press 'n'.n\n",
      "\n",
      "\n",
      "2656    Love and Basketball (2000)\n",
      "Name: title, dtype: object\n",
      "How do you rate this movie? Press 1-5 to rate. If you have not seen this movie, press 'n'.n\n",
      "\n",
      "\n",
      "8110    Before Midnight (2013)\n",
      "Name: title, dtype: object\n",
      "How do you rate this movie? Press 1-5 to rate. If you have not seen this movie, press 'n'.n\n",
      "\n",
      "\n",
      "3196    Moulin Rouge (2001)\n",
      "Name: title, dtype: object\n",
      "How do you rate this movie? Press 1-5 to rate. If you have not seen this movie, press 'n'.4\n",
      "\n",
      "\n",
      "6632    Futurama: Bender's Big Score (2007)\n",
      "Name: title, dtype: object\n",
      "How do you rate this movie? Press 1-5 to rate. If you have not seen this movie, press 'n'.n\n",
      "\n",
      "\n",
      "1902    Meteor (1979)\n",
      "Name: title, dtype: object\n",
      "How do you rate this movie? Press 1-5 to rate. If you have not seen this movie, press 'n'.n\n",
      "\n",
      "\n",
      "8491    I'll Follow You Down (2013)\n",
      "Name: title, dtype: object\n",
      "How do you rate this movie? Press 1-5 to rate. If you have not seen this movie, press 'n'.n\n",
      "\n",
      "\n",
      "9418    While You Were Fighting: A Thor Mockumentary (...\n",
      "Name: title, dtype: object\n",
      "How do you rate this movie? Press 1-5 to rate. If you have not seen this movie, press 'n'.n\n",
      "\n",
      "\n",
      "1845    Fly, The (1958)\n",
      "Name: title, dtype: object\n",
      "How do you rate this movie? Press 1-5 to rate. If you have not seen this movie, press 'n'.n\n",
      "\n",
      "\n",
      "6546    Invasion, The (2007)\n",
      "Name: title, dtype: object\n",
      "How do you rate this movie? Press 1-5 to rate. If you have not seen this movie, press 'n'.n\n",
      "\n",
      "\n",
      "901    Brazil (1985)\n",
      "Name: title, dtype: object\n",
      "How do you rate this movie? Press 1-5 to rate. If you have not seen this movie, press 'n'.n\n",
      "\n",
      "\n",
      "3910    Our Man Flint (1965)\n",
      "Name: title, dtype: object\n",
      "How do you rate this movie? Press 1-5 to rate. If you have not seen this movie, press 'n'.n\n",
      "\n",
      "\n",
      "7018    Star Trek (2009)\n",
      "Name: title, dtype: object\n",
      "How do you rate this movie? Press 1-5 to rate. If you have not seen this movie, press 'n'.5\n",
      "\n",
      "\n",
      "6625    Mist, The (2007)\n",
      "Name: title, dtype: object\n",
      "How do you rate this movie? Press 1-5 to rate. If you have not seen this movie, press 'n'.n\n",
      "\n",
      "\n"
     ]
    }
   ],
   "source": [
    "my_ratings2 = movie_rater(df_movies, 10, 'Action')\n",
    "my_ratings3 = movie_rater(df_movies, 20, 'Romance')\n",
    "my_ratings4 = movie_rater(df_movies, 10, 'Sci-Fi')"
   ]
  },
  {
   "cell_type": "code",
   "execution_count": 183,
   "metadata": {},
   "outputs": [
    {
     "name": "stdout",
     "output_type": "stream",
     "text": [
      "5977    Valiant (2005)\n",
      "Name: title, dtype: object\n",
      "How do you rate this movie? Press 1-5 to rate. If you have not seen this movie, press 'n'.n\n",
      "\n",
      "\n",
      "9437    Passengers (2016)\n",
      "Name: title, dtype: object\n",
      "How do you rate this movie? Press 1-5 to rate. If you have not seen this movie, press 'n'.n\n",
      "\n",
      "\n",
      "5330    Sky Captain and the World of Tomorrow (2004)\n",
      "Name: title, dtype: object\n",
      "How do you rate this movie? Press 1-5 to rate. If you have not seen this movie, press 'n'.5\n",
      "\n",
      "\n",
      "7691    Phineas and Ferb the Movie: Across the 2nd Dim...\n",
      "Name: title, dtype: object\n",
      "How do you rate this movie? Press 1-5 to rate. If you have not seen this movie, press 'n'.n\n",
      "\n",
      "\n",
      "3666    Snow Dogs (2002)\n",
      "Name: title, dtype: object\n",
      "How do you rate this movie? Press 1-5 to rate. If you have not seen this movie, press 'n'.n\n",
      "\n",
      "\n",
      "8489    Jupiter Ascending (2015)\n",
      "Name: title, dtype: object\n",
      "How do you rate this movie? Press 1-5 to rate. If you have not seen this movie, press 'n'.4\n",
      "\n",
      "\n",
      "9535    Despicable Me 3 (2017)\n",
      "Name: title, dtype: object\n",
      "How do you rate this movie? Press 1-5 to rate. If you have not seen this movie, press 'n'.5\n",
      "\n",
      "\n",
      "1059    Star Trek IV: The Voyage Home (1986)\n",
      "Name: title, dtype: object\n",
      "How do you rate this movie? Press 1-5 to rate. If you have not seen this movie, press 'n'.4\n",
      "\n",
      "\n",
      "6075    Chronicles of Narnia: The Lion, the Witch and ...\n",
      "Name: title, dtype: object\n",
      "How do you rate this movie? Press 1-5 to rate. If you have not seen this movie, press 'n'.5\n",
      "\n",
      "\n",
      "7162    Legionnaire (1998)\n",
      "Name: title, dtype: object\n",
      "How do you rate this movie? Press 1-5 to rate. If you have not seen this movie, press 'n'.n\n",
      "\n",
      "\n",
      "415    What's Love Got to Do with It? (1993)\n",
      "Name: title, dtype: object\n",
      "How do you rate this movie? Press 1-5 to rate. If you have not seen this movie, press 'n'.n\n",
      "\n",
      "\n",
      "2167    Mumford (1999)\n",
      "Name: title, dtype: object\n",
      "How do you rate this movie? Press 1-5 to rate. If you have not seen this movie, press 'n'.n\n",
      "\n",
      "\n",
      "1099    Angel Baby (1995)\n",
      "Name: title, dtype: object\n",
      "How do you rate this movie? Press 1-5 to rate. If you have not seen this movie, press 'n'.n\n",
      "\n",
      "\n",
      "2139    Only Angels Have Wings (1939)\n",
      "Name: title, dtype: object\n",
      "How do you rate this movie? Press 1-5 to rate. If you have not seen this movie, press 'n'.n\n",
      "\n",
      "\n",
      "511    Snow White and the Seven Dwarfs (1937)\n",
      "Name: title, dtype: object\n",
      "How do you rate this movie? Press 1-5 to rate. If you have not seen this movie, press 'n'.4\n",
      "\n",
      "\n",
      "299    Double Happiness (1994)\n",
      "Name: title, dtype: object\n",
      "How do you rate this movie? Press 1-5 to rate. If you have not seen this movie, press 'n'.n\n",
      "\n",
      "\n",
      "8026    Life of Pi (2012)\n",
      "Name: title, dtype: object\n",
      "How do you rate this movie? Press 1-5 to rate. If you have not seen this movie, press 'n'.n\n",
      "\n",
      "\n",
      "4960    Fail-Safe (1964)\n",
      "Name: title, dtype: object\n",
      "How do you rate this movie? Press 1-5 to rate. If you have not seen this movie, press 'n'.n\n",
      "\n",
      "\n",
      "6826    Waltz with Bashir (Vals im Bashir) (2008)\n",
      "Name: title, dtype: object\n",
      "How do you rate this movie? Press 1-5 to rate. If you have not seen this movie, press 'n'.n\n",
      "\n",
      "\n",
      "4281    Dreamcatcher (2003)\n",
      "Name: title, dtype: object\n",
      "How do you rate this movie? Press 1-5 to rate. If you have not seen this movie, press 'n'.n\n",
      "\n",
      "\n",
      "2552    Crimson Pirate, The (1952)\n",
      "Name: title, dtype: object\n",
      "How do you rate this movie? Press 1-5 to rate. If you have not seen this movie, press 'n'.n\n",
      "\n",
      "\n",
      "3902    Stuart Little 2 (2002)\n",
      "Name: title, dtype: object\n",
      "How do you rate this movie? Press 1-5 to rate. If you have not seen this movie, press 'n'.3\n",
      "\n",
      "\n",
      "5771    Gold Diggers of 1935 (1935)\n",
      "Name: title, dtype: object\n",
      "How do you rate this movie? Press 1-5 to rate. If you have not seen this movie, press 'n'.n\n",
      "\n",
      "\n",
      "607    Striptease (1996)\n",
      "Name: title, dtype: object\n",
      "How do you rate this movie? Press 1-5 to rate. If you have not seen this movie, press 'n'.n\n",
      "\n",
      "\n",
      "2483    Flamingo Kid, The (1984)\n",
      "Name: title, dtype: object\n",
      "How do you rate this movie? Press 1-5 to rate. If you have not seen this movie, press 'n'.n\n",
      "\n",
      "\n",
      "4655    Barbarian Invasions, The (Les invasions barbar...\n",
      "Name: title, dtype: object\n",
      "How do you rate this movie? Press 1-5 to rate. If you have not seen this movie, press 'n'.n\n",
      "\n",
      "\n",
      "946    Graduate, The (1967)\n",
      "Name: title, dtype: object\n",
      "How do you rate this movie? Press 1-5 to rate. If you have not seen this movie, press 'n'.4\n",
      "\n",
      "\n",
      "2087    Better Than Chocolate (1999)\n",
      "Name: title, dtype: object\n",
      "How do you rate this movie? Press 1-5 to rate. If you have not seen this movie, press 'n'.n\n",
      "\n",
      "\n",
      "9136    Those Happy Days (2006)\n",
      "Name: title, dtype: object\n",
      "How do you rate this movie? Press 1-5 to rate. If you have not seen this movie, press 'n'.n\n",
      "\n",
      "\n",
      "7604    Something Borrowed (2011)\n",
      "Name: title, dtype: object\n",
      "How do you rate this movie? Press 1-5 to rate. If you have not seen this movie, press 'n'.n\n",
      "\n",
      "\n"
     ]
    }
   ],
   "source": [
    "my_ratings5 = movie_rater(df_movies, 10, 'Adventure')\n",
    "my_ratings6 = movie_rater(df_movies, 10, 'Drama') \n",
    "my_ratings7 = movie_rater(df_movies, 10, 'Comedy')"
   ]
  },
  {
   "cell_type": "markdown",
   "metadata": {},
   "source": [
    "If you're struggling to come up with the above function, you can use this list of user ratings to complete the next segment"
   ]
  },
  {
   "cell_type": "markdown",
   "metadata": {},
   "source": [
    "### Making Predictions With the New Ratings\n",
    "Now that you have new ratings, you can use them to make predictions for this new user. The proper way this should work is:\n",
    "\n",
    "* add the new ratings to the original ratings DataFrame, read into a surprise dataset\n",
    "* train a model using the new combined DataFrame\n",
    "* make predictions for the user\n",
    "* order those predictions from highest rated to lowest rated\n",
    "* return the top n recommendations with the text of the actual movie (rather than just the index number)"
   ]
  },
  {
   "cell_type": "code",
   "execution_count": 191,
   "metadata": {},
   "outputs": [
    {
     "data": {
      "text/plain": [
       "[{'userId': 999, 'movieId': 56171, 'rating': '4'},\n",
       " {'userId': 999, 'movieId': 5952, 'rating': '5'},\n",
       " {'userId': 999, 'movieId': 71264, 'rating': '4'},\n",
       " {'userId': 999, 'movieId': 36401, 'rating': '4'},\n",
       " {'userId': 999, 'movieId': 5418, 'rating': '5'},\n",
       " {'userId': 999, 'movieId': 1036, 'rating': '4'},\n",
       " {'userId': 999, 'movieId': 933, 'rating': '4'},\n",
       " {'userId': 999, 'movieId': 77866, 'rating': '5'},\n",
       " {'userId': 999, 'movieId': 74154, 'rating': '4'},\n",
       " {'userId': 999, 'movieId': 72921, 'rating': '3'},\n",
       " {'userId': 999, 'movieId': 4308, 'rating': '4'},\n",
       " {'userId': 999, 'movieId': 68358, 'rating': '5'},\n",
       " {'userId': 999, 'movieId': 8865, 'rating': '5'},\n",
       " {'userId': 999, 'movieId': 113345, 'rating': '4'},\n",
       " {'userId': 999, 'movieId': 172547, 'rating': '5'},\n",
       " {'userId': 999, 'movieId': 1376, 'rating': '4'},\n",
       " {'userId': 999, 'movieId': 41566, 'rating': '5'},\n",
       " {'userId': 999, 'movieId': 594, 'rating': '4'},\n",
       " {'userId': 999, 'movieId': 5480, 'rating': '3'},\n",
       " {'userId': 999, 'movieId': 1247, 'rating': '4'}]"
      ]
     },
     "execution_count": 191,
     "metadata": {},
     "output_type": "execute_result"
    }
   ],
   "source": [
    "ratings = my_ratings + my_ratings2 + my_ratings3 + my_ratings4 + my_ratings5 + my_ratings6 + my_ratings7\n",
    "ratings"
   ]
  },
  {
   "cell_type": "code",
   "execution_count": 194,
   "metadata": {},
   "outputs": [
    {
     "data": {
      "text/html": [
       "<div>\n",
       "<style scoped>\n",
       "    .dataframe tbody tr th:only-of-type {\n",
       "        vertical-align: middle;\n",
       "    }\n",
       "\n",
       "    .dataframe tbody tr th {\n",
       "        vertical-align: top;\n",
       "    }\n",
       "\n",
       "    .dataframe thead th {\n",
       "        text-align: right;\n",
       "    }\n",
       "</style>\n",
       "<table border=\"1\" class=\"dataframe\">\n",
       "  <thead>\n",
       "    <tr style=\"text-align: right;\">\n",
       "      <th></th>\n",
       "      <th>userId</th>\n",
       "      <th>movieId</th>\n",
       "      <th>rating</th>\n",
       "    </tr>\n",
       "  </thead>\n",
       "  <tbody>\n",
       "    <tr>\n",
       "      <th>100846</th>\n",
       "      <td>999</td>\n",
       "      <td>4308</td>\n",
       "      <td>4</td>\n",
       "    </tr>\n",
       "    <tr>\n",
       "      <th>100847</th>\n",
       "      <td>999</td>\n",
       "      <td>68358</td>\n",
       "      <td>5</td>\n",
       "    </tr>\n",
       "    <tr>\n",
       "      <th>100848</th>\n",
       "      <td>999</td>\n",
       "      <td>8865</td>\n",
       "      <td>5</td>\n",
       "    </tr>\n",
       "    <tr>\n",
       "      <th>100849</th>\n",
       "      <td>999</td>\n",
       "      <td>113345</td>\n",
       "      <td>4</td>\n",
       "    </tr>\n",
       "    <tr>\n",
       "      <th>100850</th>\n",
       "      <td>999</td>\n",
       "      <td>172547</td>\n",
       "      <td>5</td>\n",
       "    </tr>\n",
       "    <tr>\n",
       "      <th>100851</th>\n",
       "      <td>999</td>\n",
       "      <td>1376</td>\n",
       "      <td>4</td>\n",
       "    </tr>\n",
       "    <tr>\n",
       "      <th>100852</th>\n",
       "      <td>999</td>\n",
       "      <td>41566</td>\n",
       "      <td>5</td>\n",
       "    </tr>\n",
       "    <tr>\n",
       "      <th>100853</th>\n",
       "      <td>999</td>\n",
       "      <td>594</td>\n",
       "      <td>4</td>\n",
       "    </tr>\n",
       "    <tr>\n",
       "      <th>100854</th>\n",
       "      <td>999</td>\n",
       "      <td>5480</td>\n",
       "      <td>3</td>\n",
       "    </tr>\n",
       "    <tr>\n",
       "      <th>100855</th>\n",
       "      <td>999</td>\n",
       "      <td>1247</td>\n",
       "      <td>4</td>\n",
       "    </tr>\n",
       "  </tbody>\n",
       "</table>\n",
       "</div>"
      ],
      "text/plain": [
       "        userId  movieId rating\n",
       "100846     999     4308      4\n",
       "100847     999    68358      5\n",
       "100848     999     8865      5\n",
       "100849     999   113345      4\n",
       "100850     999   172547      5\n",
       "100851     999     1376      4\n",
       "100852     999    41566      5\n",
       "100853     999      594      4\n",
       "100854     999     5480      3\n",
       "100855     999     1247      4"
      ]
     },
     "execution_count": 194,
     "metadata": {},
     "output_type": "execute_result"
    }
   ],
   "source": [
    "## add the new ratings to the original ratings DataFrame\n",
    "new_df_ratings = new_df.append(ratings, ignore_index=True)\n",
    "new_df_ratings.tail(10)"
   ]
  },
  {
   "cell_type": "code",
   "execution_count": 195,
   "metadata": {},
   "outputs": [],
   "source": [
    "data_rt = Dataset.load_from_df(new_df_ratings, reader)\n",
    "dataset_rt = data_rt.build_full_trainset()"
   ]
  },
  {
   "cell_type": "code",
   "execution_count": 196,
   "metadata": {},
   "outputs": [
    {
     "data": {
      "text/plain": [
       "<surprise.prediction_algorithms.matrix_factorization.SVD at 0x7ff61980aa60>"
      ]
     },
     "execution_count": 196,
     "metadata": {},
     "output_type": "execute_result"
    }
   ],
   "source": [
    "# train a model using the new combined DataFrame\n",
    "\n",
    "svd_rt = SVD(n_factors= 20, reg_all=0.02)  \n",
    "svd_rt.fit(dataset_rt)"
   ]
  },
  {
   "cell_type": "code",
   "execution_count": 197,
   "metadata": {},
   "outputs": [
    {
     "data": {
      "text/plain": [
       "3.905750923200167"
      ]
     },
     "execution_count": 197,
     "metadata": {},
     "output_type": "execute_result"
    }
   ],
   "source": [
    "pred = svd_rt.predict(999, 3455)[3]\n",
    "pred"
   ]
  },
  {
   "cell_type": "code",
   "execution_count": 199,
   "metadata": {},
   "outputs": [],
   "source": [
    "movieID_list = new_df_ratings['movieId'].unique()\n",
    "#list(movieID_list)"
   ]
  },
  {
   "cell_type": "code",
   "execution_count": 200,
   "metadata": {},
   "outputs": [
    {
     "data": {
      "text/plain": [
       "[(1, 4.380860416692458),\n",
       " (3, 3.8621417855679616),\n",
       " (6, 4.575849297639396),\n",
       " (47, 4.6247387824067125),\n",
       " (50, 4.833195607173474)]"
      ]
     },
     "execution_count": 200,
     "metadata": {},
     "output_type": "execute_result"
    }
   ],
   "source": [
    "# make predictions for the user\n",
    "# you'll probably want to create a list of tuples in the format (movie_id, predicted_score)\n",
    "\n",
    "movieID_list = new_df_ratings['movieId'].unique()\n",
    "predictions_forUser = []\n",
    "\n",
    "for ID in movieID_list:\n",
    "    pred = svd_rt.predict(999, ID)[3]\n",
    "    predictions_forUser.append((ID,pred))\n",
    "    \n",
    "predictions_forUser[0:5]"
   ]
  },
  {
   "cell_type": "code",
   "execution_count": 201,
   "metadata": {},
   "outputs": [
    {
     "data": {
      "text/plain": [
       "[(318, 5),\n",
       " (750, 4.948509321670439),\n",
       " (1221, 4.927438902993958),\n",
       " (858, 4.91741861523349),\n",
       " (1204, 4.902927943750866)]"
      ]
     },
     "execution_count": 201,
     "metadata": {},
     "output_type": "execute_result"
    }
   ],
   "source": [
    "# order the predictions from highest to lowest rated\n",
    "ranked_movies = sorted(predictions_forUser, key=lambda x:x[1], reverse=True)\n",
    "ranked_movies[0:5]"
   ]
  },
  {
   "cell_type": "code",
   "execution_count": 202,
   "metadata": {},
   "outputs": [
    {
     "data": {
      "text/plain": [
       "858"
      ]
     },
     "execution_count": 202,
     "metadata": {},
     "output_type": "execute_result"
    }
   ],
   "source": [
    "ranked_movies[3][0]"
   ]
  },
  {
   "cell_type": "markdown",
   "metadata": {},
   "source": [
    " For the final component of this challenge, it could be useful to create a function `recommended_movies()` that takes in the parameters:\n",
    "* `user_ratings`: list - list of tuples formulated as (user_id, movie_id) (should be in order of best to worst for this individual)\n",
    "* `movie_title_df`: DataFrame \n",
    "* `n`: int - number of recommended movies \n",
    "\n",
    "The function should use a `for` loop to print out each recommended *n* movies in order from best to worst"
   ]
  },
  {
   "cell_type": "code",
   "execution_count": 203,
   "metadata": {},
   "outputs": [
    {
     "name": "stdout",
     "output_type": "stream",
     "text": [
      "277    Shawshank Redemption, The (1994)\n",
      "Name: title, dtype: object\n",
      "602    Dr. Strangelove or: How I Learned to Stop Worr...\n",
      "Name: title, dtype: object\n",
      "922    Godfather: Part II, The (1974)\n",
      "Name: title, dtype: object\n",
      "659    Godfather, The (1972)\n",
      "Name: title, dtype: object\n",
      "906    Lawrence of Arabia (1962)\n",
      "Name: title, dtype: object\n"
     ]
    }
   ],
   "source": [
    "# return the top n recommendations using the \n",
    "def recommended_movies(user_ratings,movie_title_df,n):\n",
    "        \n",
    "        for i in range(0,n):\n",
    "            ID = user_ratings[i][0]\n",
    "            movie = movie_title_df[movie_title_df.movieId == ID]\n",
    "            print(movie.title)\n",
    "            \n",
    "recommended_movies(ranked_movies,df_movies,5)"
   ]
  },
  {
   "cell_type": "markdown",
   "metadata": {},
   "source": [
    "## Level Up (Optional)\n",
    "\n",
    "* Try and chain all of the steps together into one function that asks users for ratings for a certain number of movies, then all of the above steps are performed to return the top $n$ recommendations\n",
    "* Make a recommender system that only returns items that come from a specified genre"
   ]
  },
  {
   "cell_type": "markdown",
   "metadata": {},
   "source": [
    "## Summary\n",
    "\n",
    "In this lab, you got the chance to implement a collaborative filtering model as well as retrieve recommendations from that model. You also got the opportunity to add your own recommendations to the system to get new recommendations for yourself! Next, you will learn how to use Spark to make recommender systems."
   ]
  }
 ],
 "metadata": {
  "kernelspec": {
   "display_name": "Python 3",
   "language": "python",
   "name": "python3"
  },
  "language_info": {
   "codemirror_mode": {
    "name": "ipython",
    "version": 3
   },
   "file_extension": ".py",
   "mimetype": "text/x-python",
   "name": "python",
   "nbconvert_exporter": "python",
   "pygments_lexer": "ipython3",
   "version": "3.8.3"
  },
  "toc": {
   "base_numbering": 1,
   "nav_menu": {},
   "number_sections": true,
   "sideBar": true,
   "skip_h1_title": false,
   "title_cell": "Table of Contents",
   "title_sidebar": "Contents",
   "toc_cell": false,
   "toc_position": {},
   "toc_section_display": true,
   "toc_window_display": false
  }
 },
 "nbformat": 4,
 "nbformat_minor": 2
}
